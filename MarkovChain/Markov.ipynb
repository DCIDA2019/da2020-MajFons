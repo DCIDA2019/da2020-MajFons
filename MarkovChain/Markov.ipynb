{
 "cells": [
  {
   "cell_type": "markdown",
   "metadata": {},
   "source": [
    "## María José Fonseca Vázquez - Markov Chain Aplicada a Una Recta"
   ]
  },
  {
   "cell_type": "code",
   "execution_count": 9,
   "metadata": {},
   "outputs": [],
   "source": [
    "import matplotlib.pyplot as plt\n",
    "import numpy as np\n",
    "import math"
   ]
  },
  {
   "cell_type": "code",
   "execution_count": 10,
   "metadata": {},
   "outputs": [],
   "source": [
    "modelo = lambda args: args[0]*x_ + args[1] \n",
    "\n",
    "def likelihood(args):\n",
    "    lk = (y_-modelo([args[0], args[1]]))**2/(err_**2)\n",
    "    return -.5*lk.sum()"
   ]
  },
  {
   "cell_type": "code",
   "execution_count": 11,
   "metadata": {},
   "outputs": [],
   "source": [
    "#Puntos para ajustar:\n",
    "\n",
    "m_ = 7\n",
    "b_ = 5\n",
    "lon = 20\n",
    "x_ = np.linspace(0, 4, lon)\n",
    "y_ = m_ * x_ + b_\n",
    "err_ = []\n",
    "\n",
    "\n",
    "for k in range(lon):\n",
    "    y_[k] += np.random.normal(0, 0.3)\n",
    "    err_.append(.2)\n",
    "    \n",
    "x_ = np.array([x_])\n",
    "y_ = np.array([y_])\n",
    "err_ = np.array([err_])    \n",
    "\n",
    "#plt.errorbar(x_, y_, yerr = .2)\n",
    "#plt.title('Puntos Para Ajustar')\n",
    "#plt.xlabel('x')\n",
    "#plt.ylabel('y')"
   ]
  },
  {
   "cell_type": "code",
   "execution_count": 12,
   "metadata": {},
   "outputs": [
    {
     "data": {
      "text/plain": [
       "-19.135982769096092"
      ]
     },
     "execution_count": 12,
     "metadata": {},
     "output_type": "execute_result"
    }
   ],
   "source": [
    "likelihood([7, 5]) "
   ]
  },
  {
   "cell_type": "code",
   "execution_count": 13,
   "metadata": {},
   "outputs": [
    {
     "data": {
      "text/plain": [
       "-33643.246387015475"
      ]
     },
     "execution_count": 13,
     "metadata": {},
     "output_type": "execute_result"
    }
   ],
   "source": [
    "likelihood([1, 8])"
   ]
  },
  {
   "cell_type": "code",
   "execution_count": 14,
   "metadata": {},
   "outputs": [],
   "source": [
    "def markov(m_0, b_0):\n",
    "    pasos = 0\n",
    "    sigma_m = .2\n",
    "    sigma_b = .2\n",
    "    m_old = m_0\n",
    "    b_old = b_0\n",
    "\n",
    "    while pasos <= N:  \n",
    "        m_new = np.random.uniform(m_old - sigma_m, m_old + sigma_m)\n",
    "        b_new = np.random.uniform(b_old - sigma_b, b_old + sigma_b)\n",
    "        \n",
    "        check = likelihood([m_new, b_new])/likelihood([m_old, b_old])\n",
    "        \n",
    "        if check < 1:\n",
    "          \n",
    "            m_arr.append(m_new)\n",
    "            b_arr.append(b_new)\n",
    "            m_old, b_old = m_new, b_new\n",
    "        #elif np.random.uniform(0, 1) < (likelihood([m_new, b_new])/likelihood([m_old, b_old])):  \n",
    "        elif np.random.uniform(0, 1) > check:\n",
    "            #print('Si2' + str(check))\n",
    "            m_arr.append(m_new)\n",
    "            b_arr.append(b_new)\n",
    "            #print(likelihood([m_new, b_new])/likelihood([m_old, b_old]))\n",
    "            m_old, b_old = m_new, b_new\n",
    " \n",
    "        pasos += 1\n",
    "    \n",
    "    values = [m_new, b_new]\n",
    "    return values"
   ]
  },
  {
   "cell_type": "code",
   "execution_count": 21,
   "metadata": {},
   "outputs": [
    {
     "name": "stdout",
     "output_type": "stream",
     "text": [
      "m: 6.9579080425304065 b: 4.957657695013042\n",
      "-25.45999847825243\n"
     ]
    },
    {
     "data": {
      "image/png": "[encoded data removed]",
      "text/plain": [
       "<Figure size 432x288 with 1 Axes>"
      ]
     },
     "metadata": {
      "needs_background": "light"
     },
     "output_type": "display_data"
    }
   ],
   "source": [
    "N = 300\n",
    "m_arr = []\n",
    "b_arr = []\n",
    "\n",
    "m_in = 5\n",
    "b_in = 3\n",
    "\n",
    "m_arr.append(m_in)\n",
    "b_arr.append(b_in)\n",
    "\n",
    "\n",
    "res = markov(m_in, b_in)\n",
    "m_arr, b_arr\n",
    "plt.plot(m_arr, b_arr, 'co')\n",
    "plt.title('Ajuste con Cadenas de Markov (Recta: 7x+5)')\n",
    "print('m: ' + str(res[0]) + ' b: ' + str(res[1]))\n",
    "print(likelihood(res))"
   ]
  },
  {
   "cell_type": "code",
   "execution_count": null,
   "metadata": {},
   "outputs": [],
   "source": []
  }
 ],
 "metadata": {
  "kernelspec": {
   "display_name": "Python 3",
   "language": "python",
   "name": "python3"
  },
  "language_info": {
   "codemirror_mode": {
    "name": "ipython",
    "version": 3
   },
   "file_extension": ".py",
   "mimetype": "text/x-python",
   "name": "python",
   "nbconvert_exporter": "python",
   "pygments_lexer": "ipython3",
   "version": "3.7.6"
  }
 },
 "nbformat": 4,
 "nbformat_minor": 4
}
