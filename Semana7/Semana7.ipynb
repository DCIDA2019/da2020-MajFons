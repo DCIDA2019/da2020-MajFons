{
 "cells": [
  {
   "cell_type": "markdown",
   "metadata": {},
   "source": [
    "# Análisis de Datos - Semana 7\n",
    "## María José Foeca Vázquez"
   ]
  },
  {
   "cell_type": "code",
   "execution_count": 60,
   "metadata": {},
   "outputs": [],
   "source": [
    "import cosmolopy.distance as distance\n",
    "from scipy.optimize import minimize\n",
    "import matplotlib.pyplot as plt\n",
    "from numpy.linalg import inv\n",
    "import pandas as pd\n",
    "import numpy as np"
   ]
  },
  {
   "cell_type": "code",
   "execution_count": 2,
   "metadata": {},
   "outputs": [],
   "source": [
    "data = pd.read_csv(\"jla_lcparams.txt\", sep = ' ')\n",
    "data = data[['zcmb', 'mb', 'x1', 'color']]\n",
    "\n",
    "#np.loadtxt(skiprows = 0, usecols = [1, 4, 6, 7], unpack = True)\n",
    "def Mu(alpha, beta, Mb):\n",
    "    return data.mb - (Mb - alpha* data.x1 + beta*data.color)"
   ]
  },
  {
   "cell_type": "code",
   "execution_count": 3,
   "metadata": {},
   "outputs": [
    {
     "data": {
      "image/png": "[encoded data removed]",
      "text/plain": [
       "<Figure size 432x288 with 1 Axes>"
      ]
     },
     "metadata": {
      "needs_background": "light"
     },
     "output_type": "display_data"
    }
   ],
   "source": [
    "plt.scatter(data.zcmb, Mu(0.141, 3.101, -19.05), marker = '.', color = 'magenta')\n",
    "plt.xscale('log')"
   ]
  },
  {
   "cell_type": "code",
   "execution_count": 4,
   "metadata": {},
   "outputs": [],
   "source": [
    "cosmo = {'omega_M_0':0.22, 'omega_lambda_0':0.78, 'omega_k_0':0.0, 'h':0.7} #Los primeros 3 deben sumar 1\n",
    "comovd = distance.comoving_distance(6, **cosmo)"
   ]
  },
  {
   "cell_type": "code",
   "execution_count": 5,
   "metadata": {},
   "outputs": [
    {
     "data": {
      "text/plain": [
       "array(9143.12445763)"
      ]
     },
     "execution_count": 5,
     "metadata": {},
     "output_type": "execute_result"
    }
   ],
   "source": [
    "comovd"
   ]
  },
  {
   "cell_type": "code",
   "execution_count": 6,
   "metadata": {},
   "outputs": [
    {
     "data": {
      "text/plain": [
       "\u001b[0;31mSignature:\u001b[0m \u001b[0mdistance\u001b[0m\u001b[0;34m.\u001b[0m\u001b[0mluminosity_distance\u001b[0m\u001b[0;34m(\u001b[0m\u001b[0mz\u001b[0m\u001b[0;34m,\u001b[0m \u001b[0;34m**\u001b[0m\u001b[0mcosmo\u001b[0m\u001b[0;34m)\u001b[0m\u001b[0;34m\u001b[0m\u001b[0;34m\u001b[0m\u001b[0m\n",
       "\u001b[0;31mDocstring:\u001b[0m\n",
       "The luminosity distance to redshift z.\n",
       "\n",
       "Units are Mpc.\n",
       "\n",
       "See, for example, David Hogg's arXiv:astro-ph/9905116v4\n",
       "\u001b[0;31mFile:\u001b[0m      ~/miniconda3/envs/ENV1/lib/python3.7/site-packages/cosmolopy/distance.py\n",
       "\u001b[0;31mType:\u001b[0m      function\n"
      ]
     },
     "metadata": {},
     "output_type": "display_data"
    }
   ],
   "source": [
    "distance.luminosity_distance?"
   ]
  },
  {
   "cell_type": "code",
   "execution_count": 7,
   "metadata": {},
   "outputs": [],
   "source": [
    "lumdist = distance.luminosity_distance(6, **cosmo)"
   ]
  },
  {
   "cell_type": "code",
   "execution_count": 8,
   "metadata": {},
   "outputs": [
    {
     "data": {
      "text/plain": [
       "<matplotlib.collections.PathCollection at 0x7fefccaec290>"
      ]
     },
     "execution_count": 8,
     "metadata": {},
     "output_type": "execute_result"
    },
    {
     "data": {
      "image/png": "[encoded data removed]",
      "text/plain": [
       "<Figure size 432x288 with 1 Axes>"
      ]
     },
     "metadata": {
      "needs_background": "light"
     },
     "output_type": "display_data"
    }
   ],
   "source": [
    "plt.scatter(data.zcmb, 5*np.log10(distance.luminosity_distance(data.zcmb, **cosmo)*10**6/10), marker = ',')\n",
    "plt.scatter(data.zcmb, Mu(0.141, 3.101, -19.05), marker = '.', color = 'magenta')"
   ]
  },
  {
   "cell_type": "code",
   "execution_count": 9,
   "metadata": {},
   "outputs": [],
   "source": [
    "def mu_teo(om_M):\n",
    "    cosmo = {'omega_M_0': om_M, 'omega_lambda_0': 1 - om_M, 'omega_k_0':0.0, 'h':0.7}\n",
    "    comovd = distance.comoving_distance(6, **cosmo)\n",
    "    mu_calc = 5*np.log10(distance.luminosity_distance(data.zcmb, **cosmo)*10**6/10)\n",
    "    return mu_calc"
   ]
  },
  {
   "cell_type": "code",
   "execution_count": 10,
   "metadata": {},
   "outputs": [
    {
     "data": {
      "text/plain": [
       "<matplotlib.collections.PathCollection at 0x7fefccad0910>"
      ]
     },
     "execution_count": 10,
     "metadata": {},
     "output_type": "execute_result"
    },
    {
     "data": {
      "image/png": "[encoded data removed]",
      "text/plain": [
       "<Figure size 432x288 with 1 Axes>"
      ]
     },
     "metadata": {
      "needs_background": "light"
     },
     "output_type": "display_data"
    }
   ],
   "source": [
    "mu_teo(0.22)\n",
    "plt.scatter(data.zcmb, mu_teo(0.22), marker = ',', color = 'orange')"
   ]
  },
  {
   "cell_type": "code",
   "execution_count": 11,
   "metadata": {},
   "outputs": [
    {
     "data": {
      "text/html": [
       "<div>\n",
       "<style scoped>\n",
       "    .dataframe tbody tr th:only-of-type {\n",
       "        vertical-align: middle;\n",
       "    }\n",
       "\n",
       "    .dataframe tbody tr th {\n",
       "        vertical-align: top;\n",
       "    }\n",
       "\n",
       "    .dataframe thead th {\n",
       "        text-align: right;\n",
       "    }\n",
       "</style>\n",
       "<table border=\"1\" class=\"dataframe\">\n",
       "  <thead>\n",
       "    <tr style=\"text-align: right;\">\n",
       "      <th></th>\n",
       "      <th>zcmb</th>\n",
       "      <th>mb</th>\n",
       "      <th>x1</th>\n",
       "      <th>color</th>\n",
       "    </tr>\n",
       "  </thead>\n",
       "  <tbody>\n",
       "    <tr>\n",
       "      <th>0</th>\n",
       "      <td>0.503084</td>\n",
       "      <td>23.001698</td>\n",
       "      <td>1.273191</td>\n",
       "      <td>-0.012353</td>\n",
       "    </tr>\n",
       "    <tr>\n",
       "      <th>1</th>\n",
       "      <td>0.580724</td>\n",
       "      <td>23.573937</td>\n",
       "      <td>0.974346</td>\n",
       "      <td>-0.025076</td>\n",
       "    </tr>\n",
       "    <tr>\n",
       "      <th>2</th>\n",
       "      <td>0.494795</td>\n",
       "      <td>22.960139</td>\n",
       "      <td>-0.728837</td>\n",
       "      <td>-0.099683</td>\n",
       "    </tr>\n",
       "    <tr>\n",
       "      <th>3</th>\n",
       "      <td>0.345928</td>\n",
       "      <td>22.398137</td>\n",
       "      <td>-1.155110</td>\n",
       "      <td>-0.040581</td>\n",
       "    </tr>\n",
       "    <tr>\n",
       "      <th>4</th>\n",
       "      <td>0.677662</td>\n",
       "      <td>24.078115</td>\n",
       "      <td>0.618820</td>\n",
       "      <td>-0.039380</td>\n",
       "    </tr>\n",
       "    <tr>\n",
       "      <th>...</th>\n",
       "      <td>...</td>\n",
       "      <td>...</td>\n",
       "      <td>...</td>\n",
       "      <td>...</td>\n",
       "    </tr>\n",
       "    <tr>\n",
       "      <th>735</th>\n",
       "      <td>0.027064</td>\n",
       "      <td>16.504006</td>\n",
       "      <td>-0.137806</td>\n",
       "      <td>0.105288</td>\n",
       "    </tr>\n",
       "    <tr>\n",
       "      <th>736</th>\n",
       "      <td>0.025468</td>\n",
       "      <td>15.797848</td>\n",
       "      <td>-0.657941</td>\n",
       "      <td>-0.060805</td>\n",
       "    </tr>\n",
       "    <tr>\n",
       "      <th>737</th>\n",
       "      <td>0.023810</td>\n",
       "      <td>15.895501</td>\n",
       "      <td>0.618766</td>\n",
       "      <td>-0.055411</td>\n",
       "    </tr>\n",
       "    <tr>\n",
       "      <th>738</th>\n",
       "      <td>0.023867</td>\n",
       "      <td>16.068268</td>\n",
       "      <td>0.760605</td>\n",
       "      <td>0.052186</td>\n",
       "    </tr>\n",
       "    <tr>\n",
       "      <th>739</th>\n",
       "      <td>0.022068</td>\n",
       "      <td>15.718540</td>\n",
       "      <td>0.430639</td>\n",
       "      <td>-0.038367</td>\n",
       "    </tr>\n",
       "  </tbody>\n",
       "</table>\n",
       "<p>740 rows × 4 columns</p>\n",
       "</div>"
      ],
      "text/plain": [
       "         zcmb         mb        x1     color\n",
       "0    0.503084  23.001698  1.273191 -0.012353\n",
       "1    0.580724  23.573937  0.974346 -0.025076\n",
       "2    0.494795  22.960139 -0.728837 -0.099683\n",
       "3    0.345928  22.398137 -1.155110 -0.040581\n",
       "4    0.677662  24.078115  0.618820 -0.039380\n",
       "..        ...        ...       ...       ...\n",
       "735  0.027064  16.504006 -0.137806  0.105288\n",
       "736  0.025468  15.797848 -0.657941 -0.060805\n",
       "737  0.023810  15.895501  0.618766 -0.055411\n",
       "738  0.023867  16.068268  0.760605  0.052186\n",
       "739  0.022068  15.718540  0.430639 -0.038367\n",
       "\n",
       "[740 rows x 4 columns]"
      ]
     },
     "execution_count": 11,
     "metadata": {},
     "output_type": "execute_result"
    }
   ],
   "source": [
    "data"
   ]
  },
  {
   "cell_type": "markdown",
   "metadata": {},
   "source": [
    "Matrices de covarianza:"
   ]
  },
  {
   "cell_type": "code",
   "execution_count": 12,
   "metadata": {},
   "outputs": [],
   "source": [
    "cov1 = np.loadtxt('jla_v0_covmatrix.dat')\n",
    "cov2 = np.loadtxt('jla_v0a_covmatrix.dat')\n",
    "cov3 = np.loadtxt('jla_v0b_covmatrix.dat')\n",
    "cov4 = np.loadtxt('jla_va_covmatrix.dat')\n",
    "cov5 = np.loadtxt('jla_vab_covmatrix.dat')\n",
    "cov6 = np.loadtxt('jla_vb_covmatrix.dat')"
   ]
  },
  {
   "cell_type": "code",
   "execution_count": 13,
   "metadata": {},
   "outputs": [],
   "source": [
    "cov1 = np.reshape(cov1, (740, 740))\n",
    "cov2 = np.reshape(cov2, (740, 740))\n",
    "cov3 = np.reshape(cov3, (740, 740))\n",
    "cov4 = np.reshape(cov4, (740, 740))\n",
    "cov5 = np.reshape(cov5, (740, 740))\n",
    "cov6 = np.reshape(cov6, (740, 740))"
   ]
  },
  {
   "cell_type": "code",
   "execution_count": 14,
   "metadata": {},
   "outputs": [],
   "source": [
    "cov = cov1 + cov2 + cov3 + cov4+ cov5 + cov6\n",
    "err_ = []\n",
    "for i in range(740):\n",
    "    err_.append(cov[i][i])"
   ]
  },
  {
   "cell_type": "code",
   "execution_count": 15,
   "metadata": {},
   "outputs": [
    {
     "data": {
      "text/plain": [
       "Text(0, 0.5, '$\\\\mu$')"
      ]
     },
     "execution_count": 15,
     "metadata": {},
     "output_type": "execute_result"
    },
    {
     "data": {
      "image/png": "[encoded data removed]",
      "text/plain": [
       "<Figure size 432x288 with 1 Axes>"
      ]
     },
     "metadata": {
      "needs_background": "light"
     },
     "output_type": "display_data"
    }
   ],
   "source": [
    "plt.errorbar(data.zcmb, Mu(0.141, 3.101, -19.05), yerr = err_, marker = '.', color = 'red', linestyle = 'None')\n",
    "plt.xscale('log')\n",
    "plt.xlabel('$Z$')\n",
    "plt.ylabel('$\\mu$')"
   ]
  },
  {
   "cell_type": "markdown",
   "metadata": {},
   "source": [
    "Chi cuadrada:"
   ]
  },
  {
   "cell_type": "code",
   "execution_count": 87,
   "metadata": {},
   "outputs": [],
   "source": [
    "#Método chi cuadrada:\n",
    "#def chisq(alpha_, beta_, Mb_, Omega_):\n",
    " #   teo = mu_teo(Omega_)\n",
    " #   obs = Mu(alpha_, beta_, Mb_) \n",
    "  #  chi = np.matmul((obs - teo).T, np.matmul(cov, (obs - teo)))\n",
    "   # return chi.sum()\n",
    "def chisq(x0):\n",
    "    teo = mu_teo(x0[3])\n",
    "    obs = Mu(x0[0], x0[1], x0[2])\n",
    "    chi = abs(np.matmul((obs - teo).T, np.matmul(cov, (obs - teo))))\n",
    "    #chi = abs(np.matmul(np.matmul( (obs - teo).T, cov ), obs - teo ))\n",
    "    return chi.sum()"
   ]
  },
  {
   "cell_type": "code",
   "execution_count": 84,
   "metadata": {},
   "outputs": [
    {
     "data": {
      "text/plain": [
       "7.683108134594345"
      ]
     },
     "execution_count": 84,
     "metadata": {},
     "output_type": "execute_result"
    }
   ],
   "source": [
    "chisq(x0)"
   ]
  },
  {
   "cell_type": "code",
   "execution_count": 95,
   "metadata": {},
   "outputs": [],
   "source": [
    "x0 = [0.141, 3.101, -19.05, .22]\n",
    "res = minimize(chisq, x0, bounds = ((0, 1), (2.5, 3.5), (-19.5, -18.5), (0, 1)))"
   ]
  },
  {
   "cell_type": "code",
   "execution_count": 96,
   "metadata": {},
   "outputs": [
    {
     "data": {
      "text/plain": [
       "      fun: 0.39343995929001796\n",
       " hess_inv: <4x4 LbfgsInvHessProduct with dtype=float64>\n",
       "      jac: array([ 2.29816166e-06,  2.04125639e-01, -6.26720897e-06,  4.19664303e-06])\n",
       "  message: b'CONVERGENCE: NORM_OF_PROJECTED_GRADIENT_<=_PGTOL'\n",
       "     nfev: 195\n",
       "      nit: 32\n",
       "   status: 0\n",
       "  success: True\n",
       "        x: array([  0.07760221,   2.5       , -19.10689706,   0.25274404])"
      ]
     },
     "execution_count": 96,
     "metadata": {},
     "output_type": "execute_result"
    }
   ],
   "source": [
    "res"
   ]
  },
  {
   "cell_type": "code",
   "execution_count": null,
   "metadata": {},
   "outputs": [],
   "source": []
  }
 ],
 "metadata": {
  "kernelspec": {
   "display_name": "Python 3",
   "language": "python",
   "name": "python3"
  },
  "language_info": {
   "codemirror_mode": {
    "name": "ipython",
    "version": 3
   },
   "file_extension": ".py",
   "mimetype": "text/x-python",
   "name": "python",
   "nbconvert_exporter": "python",
   "pygments_lexer": "ipython3",
   "version": "3.7.6"
  }
 },
 "nbformat": 4,
 "nbformat_minor": 4
}
