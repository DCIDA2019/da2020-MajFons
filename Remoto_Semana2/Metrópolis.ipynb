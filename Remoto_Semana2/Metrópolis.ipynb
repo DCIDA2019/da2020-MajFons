{
 "cells": [
  {
   "cell_type": "markdown",
   "metadata": {},
   "source": [
    "# María José Fonseca Vázquez\n",
    "## Análisis de Datos - Casa Semana 2\n",
    "### Múltiples cadenas"
   ]
  },
  {
   "cell_type": "code",
   "execution_count": 2,
   "metadata": {},
   "outputs": [],
   "source": [
    "import matplotlib.pyplot as plt\n",
    "import numpy as np\n",
    "import random\n",
    "import math"
   ]
  },
  {
   "cell_type": "code",
   "execution_count": 3,
   "metadata": {},
   "outputs": [],
   "source": [
    "modelo = lambda args: args[0]*x_ + args[1] \n",
    "\n",
    "def likelihood(args):\n",
    "    lk = (y_-modelo([args[0], args[1]]))**2/(err_**2)\n",
    "    return -.5*lk.sum()"
   ]
  },
  {
   "cell_type": "code",
   "execution_count": 4,
   "metadata": {},
   "outputs": [],
   "source": [
    "#Puntos para ajustar:\n",
    "\n",
    "m_ = 7\n",
    "b_ = 5\n",
    "lon = 20\n",
    "x_ = np.linspace(0, 4, lon)\n",
    "y_ = m_ * x_ + b_\n",
    "err_ = []\n",
    "\n",
    "\n",
    "for k in range(lon):\n",
    "    y_[k] += np.random.normal(0, 0.3)\n",
    "    err_.append(.2)\n",
    "    \n",
    "x_ = np.array([x_])\n",
    "y_ = np.array([y_])\n",
    "err_ = np.array([err_])    "
   ]
  },
  {
   "cell_type": "code",
   "execution_count": 13,
   "metadata": {},
   "outputs": [
    {
     "data": {
      "text/plain": [
       "-25.163035863832334"
      ]
     },
     "execution_count": 13,
     "metadata": {},
     "output_type": "execute_result"
    }
   ],
   "source": [
    "likelihood([7, 5]) "
   ]
  },
  {
   "cell_type": "code",
   "execution_count": 11,
   "metadata": {},
   "outputs": [
    {
     "data": {
      "text/plain": [
       "-33115.62596750305"
      ]
     },
     "execution_count": 11,
     "metadata": {},
     "output_type": "execute_result"
    }
   ],
   "source": [
    "likelihood([1, 8])"
   ]
  },
  {
   "cell_type": "code",
   "execution_count": 54,
   "metadata": {},
   "outputs": [],
   "source": [
    "def markov(m_0, b_0):\n",
    "    pasos = 0\n",
    "    sigma_m = .015\n",
    "    sigma_b = .012\n",
    "    m_old = m_0\n",
    "    b_old = b_0\n",
    "    \n",
    "    pr = 1 #prior plano\n",
    "    posterior = lambda m_new, b_new: likelihood([m_new, b_new])* pr\n",
    "    porterior_0 = lambda m_old, b_old: likelihood([m_old, b_old])* pr\n",
    "    \n",
    "    NewValue = 0\n",
    "    \n",
    "    while pasos <= N:  \n",
    "        m_new = np.random.normal(m_old, sigma_m)\n",
    "        b_new = np.random.normal(b_old, sigma_b)\n",
    "        \n",
    "        if m_new >= m_-3 and m_new <= m_+3 and b_new >= b_-3 and b_new <= b_+3: \n",
    "            #check = likelihood([m_new, b_new])/likelihood([m_old, b_old])\n",
    "            check = posterior(m_new, b_new)/posterior(m_old, b_old)\n",
    "        \n",
    "            if check < 1:\n",
    "          \n",
    "                m_arr[i].append(m_new)\n",
    "                b_arr[i].append(b_new)\n",
    "                NewValue += 1\n",
    "                m_old, b_old = m_new, b_new\n",
    "            #elif np.random.uniform(0, 1) < (likelihood([m_new, b_new])/likelihood([m_old, b_old])):  \n",
    "            elif np.random.uniform(0, 1) > check:\n",
    "                #print('Si2' + str(check))\n",
    "                m_arr[i].append(m_new)\n",
    "                b_arr[i].append(b_new)\n",
    "                NewValue += 1\n",
    "                #print(likelihood([m_new, b_new])/likelihood([m_old, b_old]))\n",
    "                m_old, b_old = m_new, b_new\n",
    "            else:\n",
    "                m_arr[i].append(m_old)\n",
    "                b_arr[i].append(b_old)\n",
    "        else:\n",
    "            m_arr[i].append(m_old)\n",
    "            b_arr[i].append(b_old)\n",
    "        pasos += 1\n",
    "    \n",
    "    FraccAcep.append(NewValue/N)\n",
    "    values = [m_new, b_new]\n",
    "    return values"
   ]
  },
  {
   "cell_type": "code",
   "execution_count": 60,
   "metadata": {},
   "outputs": [
    {
     "name": "stdout",
     "output_type": "stream",
     "text": [
      "Cadena 1: \n",
      "m: 7.066941014992251 b: 4.877279071980336\n",
      "Fraccion de Aceptacion :0.457\n",
      "Cadena 2: \n",
      "m: 7.015230350815019 b: 4.980994194215486\n",
      "Fraccion de Aceptacion :0.179\n",
      "Cadena 3: \n",
      "m: 7.001683222704006 b: 4.9754934753391575\n",
      "Fraccion de Aceptacion :0.283\n",
      "Cadena 4: \n",
      "m: 7.002831171877235 b: 4.969921681143901\n",
      "Fraccion de Aceptacion :0.192\n",
      "Cadena 5: \n",
      "m: 6.998909972678774 b: 4.954528380050845\n",
      "Fraccion de Aceptacion :0.177\n"
     ]
    },
    {
     "data": {
      "image/png": "[encoded data removed]",
      "text/plain": [
       "<Figure size 432x288 with 1 Axes>"
      ]
     },
     "metadata": {
      "needs_background": "light"
     },
     "output_type": "display_data"
    }
   ],
   "source": [
    "N = 1000\n",
    "FraccAcep = []\n",
    "m_arr = [[], [], [], [], []]\n",
    "b_arr = [[], [], [], [], []]\n",
    "res = [[], [], [], [], []]\n",
    "\n",
    "m_in = []\n",
    "b_in = []\n",
    "\n",
    "\n",
    "random.seed(18)\n",
    "\n",
    "for i in range(5):\n",
    "    m_in.append(random.randint(m_-3, m_+3))\n",
    "    b_in.append(random.randint(b_-3, b_+3))\n",
    "\n",
    "#m_in = [-5, 11, 7, 10, 3]\n",
    "#b_in = [3, 7, 8, 1, 3]\n",
    "for i in range(5):\n",
    "    m_arr[i].append(m_in[i])\n",
    "    b_arr[i].append(b_in[i])\n",
    "\n",
    "#print(m_arr, b_arr)\n",
    "\n",
    "color = ['c.', 'g.', 'b.', 'r.', 'y.']\n",
    "#Ciclo para ejecutar todas las cadenas:\n",
    "for i in range(5):\n",
    "    res[i] = markov(m_in[i], b_in[i])\n",
    "    print('Cadena ' + str(i + 1) + ': ')\n",
    "    plt.plot(m_arr[i], b_arr[i], color[i])\n",
    "    plt.title('Ajuste con Cadenas de Markov (Recta: 7x+5)')\n",
    "    print('m: ' + str(res[i][0]) + ' b: ' + str(res[i][1]))\n",
    "    \n",
    "    print('Fraccion de Aceptacion :' + str(FraccAcep[i]))\n",
    "    #print(likelihood(res[i]))\n",
    "#FraccAcep"
   ]
  },
  {
   "cell_type": "code",
   "execution_count": null,
   "metadata": {},
   "outputs": [],
   "source": []
  },
  {
   "cell_type": "code",
   "execution_count": null,
   "metadata": {},
   "outputs": [],
   "source": []
  }
 ],
 "metadata": {
  "kernelspec": {
   "display_name": "Python 3",
   "language": "python",
   "name": "python3"
  },
  "language_info": {
   "codemirror_mode": {
    "name": "ipython",
    "version": 3
   },
   "file_extension": ".py",
   "mimetype": "text/x-python",
   "name": "python",
   "nbconvert_exporter": "python",
   "pygments_lexer": "ipython3",
   "version": "3.7.6"
  }
 },
 "nbformat": 4,
 "nbformat_minor": 4
}
