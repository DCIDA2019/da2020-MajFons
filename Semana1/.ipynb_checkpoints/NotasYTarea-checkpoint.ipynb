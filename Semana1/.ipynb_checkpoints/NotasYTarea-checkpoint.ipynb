{
 "cells": [
  {
   "cell_type": "markdown",
   "metadata": {},
   "source": [
    "## María José Fonseca Vázquez - Semana 1\n",
    "### Parte 1: Códigos de programación básica\n",
    "(Declaración de variables, funciones, gráficas, etc.)"
   ]
  },
  {
   "cell_type": "code",
   "execution_count": 26,
   "metadata": {},
   "outputs": [
    {
     "name": "stdout",
     "output_type": "stream",
     "text": [
      "Populating the interactive namespace from numpy and matplotlib\n"
     ]
    }
   ],
   "source": [
    "import numpy as np\n",
    "import matplotlib.pyplot as plt\n",
    "import math\n",
    "%pylab inline"
   ]
  },
  {
   "cell_type": "code",
   "execution_count": 2,
   "metadata": {},
   "outputs": [
    {
     "data": {
      "text/plain": [
       "numpy.ndarray"
      ]
     },
     "execution_count": 2,
     "metadata": {},
     "output_type": "execute_result"
    }
   ],
   "source": [
    "arreglo = np.asarray([1, 2, 3, 4])\n",
    "type(arreglo)"
   ]
  },
  {
   "cell_type": "code",
   "execution_count": 3,
   "metadata": {},
   "outputs": [
    {
     "data": {
      "text/plain": [
       "(array([0., 0., 0., 0., 0., 0., 0., 0., 0., 0.]),\n",
       " array([1., 1., 1., 1., 1., 1., 1., 1., 1., 1.]))"
      ]
     },
     "execution_count": 3,
     "metadata": {},
     "output_type": "execute_result"
    }
   ],
   "source": [
    "zeros_=np.zeros(10)\n",
    "ones_=np.ones(10)\n",
    "zeros_, ones_"
   ]
  },
  {
   "cell_type": "code",
   "execution_count": 4,
   "metadata": {},
   "outputs": [
    {
     "data": {
      "text/plain": [
       "array([0., 0., 0., 0., 0., 0., 0., 0., 0., 0.])"
      ]
     },
     "execution_count": 4,
     "metadata": {},
     "output_type": "execute_result"
    }
   ],
   "source": [
    "ones_*zeros_"
   ]
  },
  {
   "cell_type": "code",
   "execution_count": 5,
   "metadata": {},
   "outputs": [
    {
     "data": {
      "text/plain": [
       "array([1., 1., 1., 1., 1., 1., 1., 1., 1., 1.])"
      ]
     },
     "execution_count": 5,
     "metadata": {},
     "output_type": "execute_result"
    }
   ],
   "source": [
    "ones_2 = zeros_+1\n",
    "ones_2"
   ]
  },
  {
   "cell_type": "code",
   "execution_count": 6,
   "metadata": {},
   "outputs": [
    {
     "data": {
      "text/plain": [
       "array([ 0.        ,  0.41666667,  0.83333333,  1.25      ,  1.66666667,\n",
       "        2.08333333,  2.5       ,  2.91666667,  3.33333333,  3.75      ,\n",
       "        4.16666667,  4.58333333,  5.        ,  5.41666667,  5.83333333,\n",
       "        6.25      ,  6.66666667,  7.08333333,  7.5       ,  7.91666667,\n",
       "        8.33333333,  8.75      ,  9.16666667,  9.58333333, 10.        ])"
      ]
     },
     "execution_count": 6,
     "metadata": {},
     "output_type": "execute_result"
    }
   ],
   "source": [
    "x=np.linspace(-5, 5, 25)\n",
    "x2=linspace(0, 10, 25)\n",
    "x2"
   ]
  },
  {
   "cell_type": "code",
   "execution_count": 7,
   "metadata": {},
   "outputs": [
    {
     "data": {
      "text/plain": [
       "array([-5.  , -4.75, -4.5 , -4.25, -4.  , -3.75, -3.5 , -3.25, -3.  ,\n",
       "       -2.75, -2.5 , -2.25, -2.  , -1.75, -1.5 , -1.25, -1.  , -0.75,\n",
       "       -0.5 , -0.25,  0.  ,  0.25,  0.5 ,  0.75,  1.  ,  1.25,  1.5 ,\n",
       "        1.75,  2.  ,  2.25,  2.5 ,  2.75,  3.  ,  3.25,  3.5 ,  3.75,\n",
       "        4.  ,  4.25,  4.5 ,  4.75])"
      ]
     },
     "execution_count": 7,
     "metadata": {},
     "output_type": "execute_result"
    }
   ],
   "source": [
    "y=np.arange(-5, 5, 0.25) #No incluye el límite superior\n",
    "y"
   ]
  },
  {
   "cell_type": "code",
   "execution_count": 8,
   "metadata": {},
   "outputs": [
    {
     "data": {
      "text/plain": [
       "array([  0.        ,   0.17361111,   0.69444444,   1.5625    ,\n",
       "         2.77777778,   4.34027778,   6.25      ,   8.50694444,\n",
       "        11.11111111,  14.0625    ,  17.36111111,  21.00694444,\n",
       "        25.        ,  29.34027778,  34.02777778,  39.0625    ,\n",
       "        44.44444444,  50.17361111,  56.25      ,  62.67361111,\n",
       "        69.44444444,  76.5625    ,  84.02777778,  91.84027778,\n",
       "       100.        ])"
      ]
     },
     "execution_count": 8,
     "metadata": {},
     "output_type": "execute_result"
    }
   ],
   "source": [
    "x2**2"
   ]
  },
  {
   "cell_type": "code",
   "execution_count": 9,
   "metadata": {},
   "outputs": [],
   "source": [
    "fx=lambda x, y: np.cos(x)*np.sqrt(y)"
   ]
  },
  {
   "cell_type": "code",
   "execution_count": 10,
   "metadata": {},
   "outputs": [
    {
     "data": {
      "text/plain": [
       "array([ 0.        , -0.08307401, -0.47381253, -0.91741325, -1.26733569,\n",
       "       -1.40701793, -1.26671928, -0.83750008, -0.17476649,  0.61061913,\n",
       "        1.37255575,  1.95770565,  2.23606798,  2.12825041,  1.62402986,\n",
       "        0.78830591, -0.24715714, -1.30514961, -2.19402215, -2.74278288,\n",
       "       -2.83384875, -2.42724731, -1.57145839, -0.39840895,  0.89701859])"
      ]
     },
     "execution_count": 10,
     "metadata": {},
     "output_type": "execute_result"
    }
   ],
   "source": [
    "fx(x, x2)"
   ]
  },
  {
   "cell_type": "code",
   "execution_count": 15,
   "metadata": {},
   "outputs": [
    {
     "data": {
      "text/plain": [
       "<matplotlib.legend.Legend at 0x7fd0d7687490>"
      ]
     },
     "execution_count": 15,
     "metadata": {},
     "output_type": "execute_result"
    },
    {
     "data": {
      "image/png": "[encoded data removed]",
      "text/plain": [
       "<Figure size 432x288 with 1 Axes>"
      ]
     },
     "metadata": {
      "needs_background": "light"
     },
     "output_type": "display_data"
    }
   ],
   "source": [
    "plt.plot(x, x**2, 'r--', label=\"Línea 1\")\n",
    "plt.plot(x, x**3, \"bo\", label=\"Línea 2\")\n",
    "plt.legend()"
   ]
  },
  {
   "cell_type": "markdown",
   "metadata": {},
   "source": [
    "### Parte 2: Actividad"
   ]
  },
  {
   "cell_type": "markdown",
   "metadata": {},
   "source": [
    "La ecuación del péndulo es: $\\ddot\\theta + \\omega^2 \\theta = 0$\n",
    "\n",
    "Lo  separamos en dos ecuaciones de primer grado: $z = \\dot\\theta$  y  $ \\dot z = \\omega^2 \\theta = 0$\n",
    "\n",
    "Se utiliza el método de Euler. Por facilidad, reescribí las variables como $\\dot x = u$ y $\\dot u = - y x$, donde $y$ corresponde a $\\frac{g}{L}$.\n",
    "\n",
    "Método 1: Programando como lo haría en C"
   ]
  },
  {
   "cell_type": "code",
   "execution_count": 149,
   "metadata": {},
   "outputs": [],
   "source": [
    "y=9.8/.3 #g/L, es decir, omega cuadrada\n",
    "\n",
    "t=[0] #Lista para el tiempo iniciando a t=0\n",
    "x=[radians(30)] #Condiciones iniciales x(0)=30° y u(0)=0 y listas para x y u\n",
    "u=[0]\n",
    "dt=.1 #Incremento de tiempo\n",
    "a_1=x[0] #Argumentos de inicio para las funciones\n",
    "a_2=u[0]\n"
   ]
  },
  {
   "cell_type": "code",
   "execution_count": 150,
   "metadata": {},
   "outputs": [
    {
     "data": {
      "text/plain": [
       "<matplotlib.legend.Legend at 0x7f35bfcdb7d0>"
      ]
     },
     "execution_count": 150,
     "metadata": {},
     "output_type": "execute_result"
    },
    {
     "data": {
      "image/png": "[encoded data removed]",
      "text/plain": [
       "<Figure size 432x288 with 1 Axes>"
      ]
     },
     "metadata": {
      "needs_background": "light"
     },
     "output_type": "display_data"
    }
   ],
   "source": [
    "\n",
    "def F1(x, u): #Regresa u_n+1\n",
    "    return u - dt*y*x\n",
    "\n",
    "def F2(x, u): #Regresa x_n+1\n",
    "    return x + dt*u\n",
    "\n",
    "ta=0#Indica el tiempo actual\n",
    "i=0\n",
    "#print(\"|  t  |  x  |  u  |\")\n",
    "while i<=50:\n",
    "    t.append(ta+dt)\n",
    "    x.append(F1(a_1, a_2))\n",
    "    u.append(F2(a_1, a_2))\n",
    "    a_1=F2(a_1, a_2)\n",
    "    a_2=F1(a_1, a_2)\n",
    "    ta+=dt\n",
    "    #print(str(round(t[i],2)) + \"\\t\" + str(round(x[i],2)) + \"\\t\" + str(round(u[i],2)))\n",
    "    i+=1\n",
    "\n",
    "plt.plot(t, x, 'c--', label=\"t vs $\\Theta$\")\n",
    "plt.plot(t, u, \"m--\", label=\"t vs $\\dot\\Theta$\")\n",
    "plt.legend()\n"
   ]
  },
  {
   "cell_type": "markdown",
   "metadata": {},
   "source": [
    "Programando utilizando arreglos y funciones extra de Python:"
   ]
  },
  {
   "cell_type": "code",
   "execution_count": null,
   "metadata": {},
   "outputs": [],
   "source": [
    "y = 9.8/.3 #g/L, es decir, omega cuadrada\n",
    "\n",
    "t = [0]\n",
    "x = [radians(30)] #Condiciones iniciales x(0)=1 y u(0)=3\n",
    "u = [0]\n",
    "dt = .1\n"
   ]
  }
 ],
 "metadata": {
  "kernelspec": {
   "display_name": "Python 3",
   "language": "python",
   "name": "python3"
  },
  "language_info": {
   "codemirror_mode": {
    "name": "ipython",
    "version": 3
   },
   "file_extension": ".py",
   "mimetype": "text/x-python",
   "name": "python",
   "nbconvert_exporter": "python",
   "pygments_lexer": "ipython3",
   "version": "3.7.6"
  }
 },
 "nbformat": 4,
 "nbformat_minor": 4
}
